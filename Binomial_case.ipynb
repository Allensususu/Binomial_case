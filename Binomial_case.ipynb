{
 "cells": [
  {
   "cell_type": "code",
   "execution_count": null,
   "id": "324a303a",
   "metadata": {},
   "outputs": [],
   "source": [
    "!pip install pandas\n",
    "!pip install numpy\n",
    "!pip install ffn\n",
    "!pip yfinance"
   ]
  },
  {
   "cell_type": "code",
   "execution_count": 136,
   "id": "fd4e6232",
   "metadata": {},
   "outputs": [],
   "source": [
    "import pandas as pd \n",
    "import numpy as np \n",
    "import ffn\n",
    "#取樣週期，MS = 月 , W=周 , D =日\n",
    "sample = 'MS'\n",
    "#參考大盤指數，^GSPC,^Twii,^DJI,^IXIC\n",
    "index_name = \"^twii\"\n",
    "#資產輸入，需要至yahoo finance查詢代碼 (台灣上市+.TW，上櫃加.TWO)\n",
    "stock_list = [\"2454.TW\",\"2330.TW\"]\n",
    "#開始時間\n",
    "start_time = \"2016-01-01\"\n"
   ]
  },
  {
   "cell_type": "markdown",
   "id": "648f7c48",
   "metadata": {},
   "source": [
    "# 下方不需變動"
   ]
  },
  {
   "cell_type": "code",
   "execution_count": 137,
   "id": "d38ac559",
   "metadata": {
    "scrolled": true
   },
   "outputs": [
    {
     "name": "stdout",
     "output_type": "stream",
     "text": [
      "               2454.TW     2330.TW          twii\n",
      "Date                                            \n",
      "2016-01-01  235.881598  139.749474   8124.526872\n",
      "2016-02-01  213.103832  146.325103   8162.529332\n",
      "2016-03-01  238.882517  152.118221   8489.297491\n",
      "2016-04-01  241.375542  159.944316   8668.181798\n",
      "2016-05-01  209.825355  151.064330   8301.089796\n",
      "...                ...         ...           ...\n",
      "2022-08-01  683.780354  507.464033  15000.625524\n",
      "2022-09-01  650.691757  489.553857  14842.153445\n",
      "2022-10-01  576.554050  414.977460  13326.242662\n",
      "2022-11-01  600.686490  389.953588  13042.252939\n",
      "2022-12-01  741.497247  502.049774  15051.063139\n",
      "\n",
      "[84 rows x 3 columns]\n"
     ]
    }
   ],
   "source": [
    "#名稱前處理\n",
    "stock_high_list = \"\"\n",
    "stock_low_list = \"\"\n",
    "stock_close = \"\"\n",
    "\n",
    "for stock in stock_list :\n",
    "    stock_high = stock + \":High\"\n",
    "    stock_low  = stock + \":Low\"\n",
    "    stock_high_list = stock_high_list +\",\"+ stock_high\n",
    "    stock_low_list = stock_low_list +\",\"+ stock_low\n",
    "    stock_close = stock_close +\",\"+ stock  \n",
    "#抓取資產開高低收\n",
    "close = ffn.get(stock_close[1:] +\",\" +index_name ,start = start_time) \n",
    "high = ffn.get(stock_high_list[1:] +\",\" +index_name + \":High\",start = start_time) \n",
    "low = ffn.get(stock_low_list[1:] +\",\" +index_name+ \":Low\",start = start_time) \n",
    "interest_rate = ffn.get(\"^tnx\",start = start_time) \n",
    "\n",
    "#取樣週期調整利率參數\n",
    "if sample.upper()  == 'MS' :\n",
    "    r_div = 12\n",
    "elif sample.upper() == \"W\" :\n",
    "    r_div = 52\n",
    "elif sample.upper() == \"D\" :\n",
    "    r_div = 365\n",
    "#column名稱前處理\n",
    "non_index_stock_list = stock_list\n",
    "index = index_name[1:]\n",
    "stock_list.append(index)\n",
    "#抽樣頻率調整資產\n",
    "if sample.upper() == \"W\":\n",
    "    Month_first = close.resample('W', label = 'left', closed = 'left').first()\n",
    "    Month_max =  high.resample('W', label = 'left', closed = 'left').max()\n",
    "    Month_low =  low.resample('W', label = 'left', closed = 'left').min()\n",
    "else :\n",
    "    Month_first = close.resample(sample).first()\n",
    "    Month_max =  high.resample(sample).max()\n",
    "    Month_low =  low.resample(sample).min()\n",
    "Month_max.columns = stock_list\n",
    "Month_low.columns = stock_list\n",
    "\n",
    "if sample.upper() == \"W\"  : \n",
    "    r = interest_rate.resample('W', label = 'left', closed = 'left').mean() / 100 / r_div\n",
    "else :\n",
    "    r = interest_rate.resample(sample).mean() / 100 / r_div\n",
    "\n",
    "#Month_max =  prices.groupby([prices.index.year,prices.index.month]).agg(max)\n",
    "#print(Month_first)\n",
    "#print(Month_max)\n",
    "#print(Month_low)\n",
    "#計算pi\n",
    "pi = pd.DataFrame(np.nan, index=Month_first.index ,columns = [\"pi\"])\n",
    "pi = (Month_first[index]*(1+r[\"tnx\"]) - Month_low[index]) / (Month_max[index] - Month_low[index])\n",
    "\n",
    "#各資產計算並儲存\n",
    "stock_price = {} \n",
    "for stock in non_index_stock_list :\n",
    "    stock_price[stock] = (pi * Month_max[stock]) + ((1-pi)*Month_low[stock]) /(1+r[\"tnx\"])\n",
    "stock_price = pd.DataFrame(stock_price).dropna()\n",
    "stock_price.to_csv(\"stock_prices.csv\")\n",
    "print(stock_price)\n"
   ]
  },
  {
   "cell_type": "code",
   "execution_count": null,
   "id": "4ff55310",
   "metadata": {},
   "outputs": [],
   "source": []
  }
 ],
 "metadata": {
  "kernelspec": {
   "display_name": "Python 3 (ipykernel)",
   "language": "python",
   "name": "python3"
  },
  "language_info": {
   "codemirror_mode": {
    "name": "ipython",
    "version": 3
   },
   "file_extension": ".py",
   "mimetype": "text/x-python",
   "name": "python",
   "nbconvert_exporter": "python",
   "pygments_lexer": "ipython3",
   "version": "3.9.12"
  }
 },
 "nbformat": 4,
 "nbformat_minor": 5
}
