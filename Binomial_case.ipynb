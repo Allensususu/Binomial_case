{
 "cells": [
  {
   "cell_type": "code",
   "execution_count": null,
   "id": "f993fd76",
   "metadata": {},
   "outputs": [],
   "source": [
    "!pip install pandas\n",
    "!pip install numpy\n",
    "!pip install ffn"
   ]
  },
  {
   "cell_type": "code",
   "execution_count": 42,
   "id": "fd4e6232",
   "metadata": {},
   "outputs": [],
   "source": [
    "import pandas as pd \n",
    "import numpy as np \n",
    "import ffn\n",
    "#取樣週期，MS = 月 , W=周 , D =日\n",
    "sample = 'W'\n",
    "#參考大盤指數，^GSPC,^Twii,^DJI,^IXIC\n",
    "index_name = \"^twii\"\n",
    "#資產輸入，需要至yahoo finance查詢代碼 (台灣上市+.TW，上櫃加.TWO)\n",
    "stock_list = [\"2454.TW\",\"2330.TW\",\"1512.TW\"]\n",
    "#開始時間\n",
    "start_time = \"2016-01-01\"\n"
   ]
  },
  {
   "cell_type": "markdown",
   "id": "bb2d092b",
   "metadata": {},
   "source": [
    "# 下方不需變動"
   ]
  },
  {
   "cell_type": "code",
   "execution_count": 43,
   "id": "d38ac559",
   "metadata": {
    "scrolled": true
   },
   "outputs": [
    {
     "name": "stdout",
     "output_type": "stream",
     "text": [
      "               2454.TW     2330.TW   1512.TW          twii\n",
      "Date                                                      \n",
      "2016-01-10  252.652957  143.670197  7.399458   8117.690385\n",
      "2016-01-17  205.294476  134.945264  6.119660   7790.264489\n",
      "2016-01-24  216.903152  137.423764  5.607677   7813.553483\n",
      "2016-01-31  205.658140  138.593197  5.258199   7894.958632\n",
      "2016-02-07  217.225877  146.143201  5.203519   8159.977369\n",
      "...                ...         ...       ...           ...\n",
      "2022-11-20  694.843758  442.647701  3.158896  14175.195056\n",
      "2022-11-27  703.536099  476.352286  3.155268  14449.720541\n",
      "2022-12-04  695.887483  473.458478  3.216517  14557.104540\n",
      "2022-12-11  756.195302  498.229725  3.638577  14991.101201\n",
      "2022-12-18  684.331169  472.687632  4.006159  14617.169937\n",
      "\n",
      "[357 rows x 4 columns]\n"
     ]
    }
   ],
   "source": [
    "#名稱前處理\n",
    "stock_high_list = \"\"\n",
    "stock_low_list = \"\"\n",
    "stock_close = \"\"\n",
    "\n",
    "for stock in stock_list :\n",
    "    stock_high = stock + \":High\"\n",
    "    stock_low  = stock + \":Low\"\n",
    "    stock_high_list = stock_high_list +\",\"+ stock_high\n",
    "    stock_low_list = stock_low_list +\",\"+ stock_low\n",
    "    stock_close = stock_close +\",\"+ stock  \n",
    "    \n",
    "#抓取資產開高低收\n",
    "close = ffn.get(stock_close[1:] +\",\" +index_name,start = start_time) \n",
    "high = ffn.get(stock_high_list[1:] +\",\" +index_name,start = start_time) \n",
    "low = ffn.get(stock_low_list[1:] +\",\" +index_name,start = start_time) \n",
    "interest_rate = ffn.get(\"^tnx\",start = start_time) \n",
    "\n",
    "#取樣週期調整利率參數\n",
    "if sample.upper()  == 'MS' :\n",
    "    r_div = 12\n",
    "elif sample.upper() == \"W\" :\n",
    "    r_div = 52\n",
    "elif sample.upper() == \"D\" :\n",
    "    r_div = 365\n",
    "    \n",
    "#column名稱前處理\n",
    "non_index_stock_list = stock_list\n",
    "index = index_name[1:]\n",
    "stock_list.append(index)\n",
    "#抽樣頻率調整資產\n",
    "Month_first = close.resample(sample).first()\n",
    "Month_max =  high.resample(sample).max()\n",
    "Month_low =  low.resample(sample).min()\n",
    "Month_max.columns = stock_list\n",
    "Month_low.columns = stock_list\n",
    "r = interest_rate.resample(sample).mean() / 100 / r_div\n",
    "#Month_max =  prices.groupby([prices.index.year,prices.index.month]).agg(max)\n",
    "\n",
    "#計算pi\n",
    "pi = pd.DataFrame(np.nan, index=Month_first.index ,columns = [\"pi\"])\n",
    "pi = (Month_first[index]*(1+r[\"tnx\"]) - Month_low[index]) / (Month_max[index] - Month_low[index])\n",
    "\n",
    "#各資產計算並儲存\n",
    "stock_price = {} \n",
    "for stock in non_index_stock_list :\n",
    "    stock_price[stock] = (pi * Month_max[stock]) + ((1-pi)*Month_low[stock]) /(1+r[\"tnx\"])\n",
    "stock_price = pd.DataFrame(stock_price).dropna()\n",
    "stock_price.to_csv(\"stock_prices.csv\")\n",
    "print(stock_price)"
   ]
  },
  {
   "cell_type": "code",
   "execution_count": null,
   "id": "2bc3d403",
   "metadata": {},
   "outputs": [],
   "source": []
  }
 ],
 "metadata": {
  "kernelspec": {
   "display_name": "Python 3 (ipykernel)",
   "language": "python",
   "name": "python3"
  },
  "language_info": {
   "codemirror_mode": {
    "name": "ipython",
    "version": 3
   },
   "file_extension": ".py",
   "mimetype": "text/x-python",
   "name": "python",
   "nbconvert_exporter": "python",
   "pygments_lexer": "ipython3",
   "version": "3.9.12"
  }
 },
 "nbformat": 4,
 "nbformat_minor": 5
}
